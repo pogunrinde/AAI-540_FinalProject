{
 "cells": [
  {
   "cell_type": "markdown",
   "id": "4fbb218c-3c95-479d-87eb-b38ac4101ba9",
   "metadata": {},
   "source": [
    "# Group 1 Final Project Work "
   ]
  },
  {
   "cell_type": "markdown",
   "id": "e8b79343-85ed-4a30-b48f-4475c77a98e1",
   "metadata": {},
   "source": [
    "#### Specific data on our dataset"
   ]
  },
  {
   "cell_type": "markdown",
   "id": "3387b813-213e-4b8d-b13c-01d8e44ecc7e",
   "metadata": {},
   "source": [
    "### Maternal Health Risk Dataset Summary\n",
    "\n",
    "**Shape:** 808 records × 7 columns  \n",
    "\n",
    "**Columns:**\n",
    "- `Age`\n",
    "- `SystolicBP` (Systolic Blood Pressure)\n",
    "- `DiastolicBP` (Diastolic Blood Pressure)\n",
    "- `BS` (Blood Sugar level)\n",
    "- `BodyTemp` (Body Temperature, °F)\n",
    "- `HeartRate` (Heart Rate, bpm)\n",
    "- `RiskLevel` (Target: maternal health risk category)\n",
    "\n",
    "---\n",
    "\n",
    "#### First 5 Records\n",
    "| Age | SystolicBP | DiastolicBP | BS   | BodyTemp | HeartRate | RiskLevel  |\n",
    "|-----|------------|--------------|------|----------|-----------|------------|\n",
    "| 25  | 130        | 80           | 15.0 | 98.0     | 86        | high risk  |\n",
    "| 35  | 140        | 90           | 13.0 | 98.0     | 70        | high risk  |\n",
    "| 29  | 90         | 70           | 8.0  | 100.0    | 80        | high risk  |\n",
    "| 30  | 140        | 85           | 7.0  | 98.0     | 70        | high risk  |\n",
    "| 35  | 120        | 60           | 6.1  | 98.0     | 76        | low risk   |\n",
    "\n",
    "---\n",
    "\n",
    "#### Summary Statistics\n",
    "- **Age:** 10–70 years (mean = 30.6, std = 13.9)  \n",
    "- **SystolicBP:** 70–160 mmHg (mean = 113, std = 19.9)  \n",
    "- **DiastolicBP:** 49–100 mmHg (mean = 77.5, std = 14.8)  \n",
    "- **BS:** 6–19 mmol/L (mean = 9.26, std = 3.62)  \n",
    "- **BodyTemp:** 98–103 °F (mean = 98.6, std = 1.39)  \n",
    "- **HeartRate:** 7–90 bpm (mean = 74.3, std = 8.82)  \n",
    "\n",
    "---\n",
    "\n",
    "#### Target Variable: RiskLevel\n",
    "- **Low risk:** 478 records (~59.2%)  \n",
    "- **High risk:** 330 records (~40.8%)  \n",
    "- **Medium risk:** Not present in this dataset version  \n",
    "\n",
    " Note: The dataset is binary-labeled (low vs. high risk), so if a 3-class model (low/mid/high) is needed, additional data preprocessing or augmentation may be required."
   ]
  },
  {
   "cell_type": "markdown",
   "id": "e62ac998-df87-4fa8-a23c-c32dd6250ae2",
   "metadata": {
    "execution": {
     "iopub.execute_input": "2025-09-20T00:29:58.488110Z",
     "iopub.status.busy": "2025-09-20T00:29:58.487852Z",
     "iopub.status.idle": "2025-09-20T00:29:58.491576Z",
     "shell.execute_reply": "2025-09-20T00:29:58.490728Z",
     "shell.execute_reply.started": "2025-09-20T00:29:58.488088Z"
    }
   },
   "source": [
    "### Week 3 - Training and Feature Engineering"
   ]
  },
  {
   "cell_type": "markdown",
   "id": "b1d938a2-5f7a-4a04-b9a7-c4dd14f5aa77",
   "metadata": {
    "execution": {
     "iopub.execute_input": "2025-09-20T00:33:39.970066Z",
     "iopub.status.busy": "2025-09-20T00:33:39.969690Z",
     "iopub.status.idle": "2025-09-20T00:33:39.973857Z",
     "shell.execute_reply": "2025-09-20T00:33:39.972733Z",
     "shell.execute_reply.started": "2025-09-20T00:33:39.970039Z"
    }
   },
   "source": [
    "#### Environment (auto role + auto bucket) and constants"
   ]
  },
  {
   "cell_type": "code",
   "execution_count": 19,
   "id": "204e533a-2bf3-413f-b03d-2bd34a912eea",
   "metadata": {
    "execution": {
     "iopub.execute_input": "2025-09-20T16:04:07.082312Z",
     "iopub.status.busy": "2025-09-20T16:04:07.081887Z",
     "iopub.status.idle": "2025-09-20T16:04:07.474514Z",
     "shell.execute_reply": "2025-09-20T16:04:07.473648Z",
     "shell.execute_reply.started": "2025-09-20T16:04:07.082286Z"
    }
   },
   "outputs": [
    {
     "name": "stdout",
     "output_type": "stream",
     "text": [
      "Region: us-east-1\n",
      "Role:   arn:aws:iam::590183777926:role/LabRole\n",
      "S3:     s3://sagemaker-us-east-1-590183777926/aai540/maternal-risk/week3/20250920-160407\n"
     ]
    }
   ],
   "source": [
    "# This notebook:\n",
    "#   • does EDA and writes plots/summary\n",
    "#   • engineers features\n",
    "#   • creates stratified splits: train(40%), val(10%), test(10%), production(40%)\n",
    "#   • uploads artifacts to S3 (auto default bucket)\n",
    "#   • creates OFFLINE Feature Store groups (auto execution role)\n",
    "#   • writes a tracker update (JSON + Markdown)\n",
    "#\n",
    "# NO MANUAL SETTINGS: bucket/role are auto-detected from your Studio kernel.\n",
    "\n",
    "import os, json, time\n",
    "from pathlib import Path\n",
    "\n",
    "import boto3\n",
    "import numpy as np\n",
    "import pandas as pd\n",
    "import matplotlib.pyplot as plt\n",
    "from sklearn.model_selection import train_test_split\n",
    "from sklearn.preprocessing import StandardScaler\n",
    "\n",
    "import sagemaker\n",
    "from sagemaker import get_execution_role\n",
    "from sagemaker.session import Session\n",
    "\n",
    "plt.rcParams[\"figure.dpi\"] = 120\n",
    "\n",
    "# Paths\n",
    "LOCAL_DATA_PATH = Path(\"Maternal_Risk.csv\")          # change only if your CSV is elsewhere\n",
    "ARTIFACTS_DIR   = Path(\"week3_outputs\")\n",
    "ARTIFACTS_DIR.mkdir(parents=True, exist_ok=True)\n",
    "\n",
    "# AWS context (auto)\n",
    "boto_sess  = boto3.session.Session()\n",
    "region     = boto_sess.region_name\n",
    "sm_session = Session(boto_sess)\n",
    "role       = get_execution_role()                     # auto from Studio kernel\n",
    "bucket     = sm_session.default_bucket()              # auto default bucket\n",
    "\n",
    "# Unique ids (prevent FG name collisions + make runs auditable)\n",
    "RUN_ID    = time.strftime(\"%Y%m%d-%H%M%S\")\n",
    "S3_PREFIX = f\"aai540/maternal-risk/week3/{RUN_ID}\"\n",
    "\n",
    "print(\"Region:\", region)\n",
    "print(\"Role:  \", role)\n",
    "print(\"S3:    \", f\"s3://{bucket}/{S3_PREFIX}\")"
   ]
  },
  {
   "cell_type": "markdown",
   "id": "6c7d4adc-f878-43ba-8088-6b1ae27302c2",
   "metadata": {},
   "source": [
    "#### Load data + lightweight EDA (plots + JSON summary)"
   ]
  },
  {
   "cell_type": "code",
   "execution_count": 20,
   "id": "8831eee7-cacf-4d1d-9ab8-722e439b677d",
   "metadata": {
    "execution": {
     "iopub.execute_input": "2025-09-20T16:04:30.767343Z",
     "iopub.status.busy": "2025-09-20T16:04:30.767056Z",
     "iopub.status.idle": "2025-09-20T16:04:31.823051Z",
     "shell.execute_reply": "2025-09-20T16:04:31.822118Z",
     "shell.execute_reply.started": "2025-09-20T16:04:30.767322Z"
    }
   },
   "outputs": [
    {
     "name": "stdout",
     "output_type": "stream",
     "text": [
      "Shape: (808, 7)\n",
      "Columns: ['Age', 'SystolicBP', 'DiastolicBP', 'BS', 'BodyTemp', 'HeartRate', 'RiskLevel']\n"
     ]
    },
    {
     "name": "stderr",
     "output_type": "stream",
     "text": [
      "/tmp/ipykernel_307/2897146882.py:27: MatplotlibDeprecationWarning: The 'labels' parameter of boxplot() has been renamed 'tick_labels' since Matplotlib 3.9; support for the old name will be dropped in 3.11.\n",
      "  plt.boxplot([df[\"SystolicBP\"], df[\"DiastolicBP\"]], labels=[\"SystolicBP\",\"DiastolicBP\"])\n"
     ]
    },
    {
     "name": "stdout",
     "output_type": "stream",
     "text": [
      "EDA done → week3_outputs\n"
     ]
    },
    {
     "data": {
      "text/plain": [
       "<Figure size 768x576 with 0 Axes>"
      ]
     },
     "metadata": {},
     "output_type": "display_data"
    }
   ],
   "source": [
    "assert LOCAL_DATA_PATH.exists(), f\"Missing: {LOCAL_DATA_PATH.resolve()}\"\n",
    "df = pd.read_csv(LOCAL_DATA_PATH)\n",
    "\n",
    "assert \"RiskLevel\" in df.columns, \"Expected target column 'RiskLevel'.\"\n",
    "print(\"Shape:\", df.shape)\n",
    "print(\"Columns:\", list(df.columns))\n",
    "\n",
    "# EDA summary (for tracker)\n",
    "eda_summary = {\n",
    "    \"rows\": int(df.shape[0]),\n",
    "    \"cols\": int(df.shape[1]),\n",
    "    \"columns\": df.columns.tolist(),\n",
    "    \"dtypes\": {c: str(t) for c, t in df.dtypes.items()},\n",
    "    \"missing_counts\": df.isna().sum().to_dict(),\n",
    "    \"class_counts\": df[\"RiskLevel\"].value_counts().to_dict(),\n",
    "}\n",
    "with open(ARTIFACTS_DIR / \"eda_summary.json\", \"w\") as f:\n",
    "    json.dump(eda_summary, f, indent=2)\n",
    "\n",
    "# Simple plots (defaults only; no custom colors)\n",
    "df[\"RiskLevel\"].value_counts().plot(kind=\"bar\"); plt.title(\"Class Distribution\")\n",
    "plt.tight_layout(); plt.savefig(ARTIFACTS_DIR / \"chart_class_distribution.png\"); plt.clf()\n",
    "\n",
    "df[\"Age\"].plot(kind=\"hist\", bins=20); plt.title(\"Age Distribution\")\n",
    "plt.tight_layout(); plt.savefig(ARTIFACTS_DIR / \"chart_age_hist.png\"); plt.clf()\n",
    "\n",
    "plt.boxplot([df[\"SystolicBP\"], df[\"DiastolicBP\"]], labels=[\"SystolicBP\",\"DiastolicBP\"])\n",
    "plt.title(\"Blood Pressure Boxplots\"); plt.tight_layout()\n",
    "plt.savefig(ARTIFACTS_DIR / \"chart_bp_box.png\"); plt.clf()\n",
    "\n",
    "num_cols = df.select_dtypes(include=[np.number]).columns\n",
    "corr = df[num_cols].corr()\n",
    "plt.imshow(corr, interpolation=\"nearest\")\n",
    "plt.xticks(range(len(num_cols)), num_cols, rotation=45, ha=\"right\")\n",
    "plt.yticks(range(len(num_cols)), num_cols); plt.colorbar(); plt.title(\"Correlation Heatmap\")\n",
    "plt.tight_layout(); plt.savefig(ARTIFACTS_DIR / \"chart_corr_heatmap.png\"); plt.clf()\n",
    "\n",
    "print(\"EDA done →\", ARTIFACTS_DIR)"
   ]
  },
  {
   "cell_type": "markdown",
   "id": "b53d720b-3cbf-4645-81e5-cda60c4bf8c6",
   "metadata": {},
   "source": [
    "#### Feature engineering (clinically-motivated features + z-scaling)"
   ]
  },
  {
   "cell_type": "code",
   "execution_count": 21,
   "id": "a0b953f3-132d-4faf-9042-56c570bb7df2",
   "metadata": {
    "execution": {
     "iopub.execute_input": "2025-09-20T16:05:00.696566Z",
     "iopub.status.busy": "2025-09-20T16:05:00.696281Z",
     "iopub.status.idle": "2025-09-20T16:05:00.731572Z",
     "shell.execute_reply": "2025-09-20T16:05:00.730865Z",
     "shell.execute_reply.started": "2025-09-20T16:05:00.696545Z"
    }
   },
   "outputs": [
    {
     "name": "stdout",
     "output_type": "stream",
     "text": [
      "Feature engineering done.\n"
     ]
    }
   ],
   "source": [
    "# We derive simple vitals-based features and also add z-scaled versions for linear models.\n",
    "\n",
    "X = df.copy()\n",
    "\n",
    "# Clinically motivated derived features\n",
    "X[\"PulsePressure\"]     = X[\"SystolicBP\"] - X[\"DiastolicBP\"]\n",
    "X[\"SBP_to_DBP\"]        = X[\"SystolicBP\"] / (X[\"DiastolicBP\"].replace(0, np.nan))\n",
    "X[\"Fever\"]             = (X[\"BodyTemp\"] > 99.5).astype(int)\n",
    "X[\"Tachycardia\"]       = (X[\"HeartRate\"] >= 100).astype(int)\n",
    "X[\"HypertensionFlag\"]  = ((X[\"SystolicBP\"] >= 140) | (X[\"DiastolicBP\"] >= 90)).astype(int)\n",
    "\n",
    "# Optional standardization for linear models\n",
    "cont = [\"Age\",\"SystolicBP\",\"DiastolicBP\",\"BS\",\"BodyTemp\",\"HeartRate\",\"PulsePressure\",\"SBP_to_DBP\"]\n",
    "X[[f\"z_{c}\" for c in cont]] = StandardScaler().fit_transform(X[cont])\n",
    "\n",
    "# Label encoding (binary in this dataset)\n",
    "label_map = {\"low risk\": 0, \"high risk\": 1}\n",
    "if set(df[\"RiskLevel\"].unique()) == set(label_map):\n",
    "    y = df[\"RiskLevel\"].map(label_map)\n",
    "else:\n",
    "    cats = sorted(df[\"RiskLevel\"].unique())\n",
    "    label_map = {v:i for i,v in enumerate(cats)}\n",
    "    y = df[\"RiskLevel\"].map(label_map)\n",
    "\n",
    "with open(ARTIFACTS_DIR / \"label_map.json\", \"w\") as f:\n",
    "    json.dump(label_map, f, indent=2)\n",
    "\n",
    "X_no_target = X.drop(columns=[\"RiskLevel\"])\n",
    "engineered_full = pd.concat([X_no_target, y.rename(\"label\")], axis=1)\n",
    "engineered_full.to_csv(ARTIFACTS_DIR / \"maternal_features_full.csv\", index=False)\n",
    "\n",
    "print(\"Feature engineering done.\")"
   ]
  },
  {
   "cell_type": "markdown",
   "id": "a43d0b66-2582-4e76-9aba-50b1c9193047",
   "metadata": {},
   "source": [
    "#### Stratified splits: 40% prod, 40% train, 10% val, 10% test"
   ]
  },
  {
   "cell_type": "code",
   "execution_count": 22,
   "id": "882288ee-155b-42ff-a6a4-9583a26635cd",
   "metadata": {
    "execution": {
     "iopub.execute_input": "2025-09-20T16:05:18.627884Z",
     "iopub.status.busy": "2025-09-20T16:05:18.627568Z",
     "iopub.status.idle": "2025-09-20T16:05:18.661451Z",
     "shell.execute_reply": "2025-09-20T16:05:18.660719Z",
     "shell.execute_reply.started": "2025-09-20T16:05:18.627858Z"
    }
   },
   "outputs": [
    {
     "name": "stdout",
     "output_type": "stream",
     "text": [
      "{'train': 322, 'val': 81, 'test': 81, 'production': 324}\n"
     ]
    }
   ],
   "source": [
    "# We first carve out 40% as \"production\" holdout for future batch inference/monitoring.\n",
    "# The remaining 60% --> train (40%), val (10%), test (10%) of the original dataset.\n",
    "\n",
    "from sklearn.model_selection import train_test_split\n",
    "\n",
    "# 40% set aside for future batch inference/monitoring\n",
    "X_tmp, X_prod, y_tmp, y_prod = train_test_split(\n",
    "    X_no_target, y, test_size=0.40, random_state=42, stratify=y\n",
    ")\n",
    "# remaining 60% -> 40/10/10\n",
    "X_train, X_rem, y_train, y_rem = train_test_split(\n",
    "    X_tmp, y_tmp, test_size=(1/3), random_state=42, stratify=y_tmp\n",
    ")\n",
    "X_val, X_test, y_val, y_test = train_test_split(\n",
    "    X_rem, y_rem, test_size=0.5, random_state=42, stratify=y_rem\n",
    ")\n",
    "\n",
    "def _save(name, Xd, yd):\n",
    "    out = Xd.copy(); out[\"label\"] = yd.values\n",
    "    out.to_csv(ARTIFACTS_DIR / f\"{name}.csv\", index=False)\n",
    "    return out\n",
    "\n",
    "train_df = _save(\"train\",      X_train, y_train)\n",
    "val_df   = _save(\"val\",        X_val,   y_val)\n",
    "test_df  = _save(\"test\",       X_test,  y_test)\n",
    "prod_df  = _save(\"production\", X_prod,  y_prod)\n",
    "\n",
    "print({\"train\":len(train_df), \"val\":len(val_df), \"test\":len(test_df), \"production\":len(prod_df)})"
   ]
  },
  {
   "cell_type": "markdown",
   "id": "7818f682-6948-49c9-89ab-29fda6b786fa",
   "metadata": {},
   "source": [
    "#### Upload artifacts to S3 (no manual bucket)"
   ]
  },
  {
   "cell_type": "code",
   "execution_count": 23,
   "id": "ee9c2544-d4f1-4f72-948b-2b27a0defd9d",
   "metadata": {
    "execution": {
     "iopub.execute_input": "2025-09-20T16:05:34.900392Z",
     "iopub.status.busy": "2025-09-20T16:05:34.900121Z",
     "iopub.status.idle": "2025-09-20T16:05:35.370603Z",
     "shell.execute_reply": "2025-09-20T16:05:35.369735Z",
     "shell.execute_reply.started": "2025-09-20T16:05:34.900371Z"
    }
   },
   "outputs": [
    {
     "name": "stdout",
     "output_type": "stream",
     "text": [
      "Uploaded s3://sagemaker-us-east-1-590183777926/aai540/maternal-risk/week3/20250920-160407/train.csv\n",
      "Uploaded s3://sagemaker-us-east-1-590183777926/aai540/maternal-risk/week3/20250920-160407/val.csv\n",
      "Uploaded s3://sagemaker-us-east-1-590183777926/aai540/maternal-risk/week3/20250920-160407/test.csv\n",
      "Uploaded s3://sagemaker-us-east-1-590183777926/aai540/maternal-risk/week3/20250920-160407/production.csv\n",
      "Uploaded s3://sagemaker-us-east-1-590183777926/aai540/maternal-risk/week3/20250920-160407/maternal_features_full.csv\n",
      "Uploaded s3://sagemaker-us-east-1-590183777926/aai540/maternal-risk/week3/20250920-160407/label_map.json\n",
      "Uploaded s3://sagemaker-us-east-1-590183777926/aai540/maternal-risk/week3/20250920-160407/eda_summary.json\n",
      "Uploaded s3://sagemaker-us-east-1-590183777926/aai540/maternal-risk/week3/20250920-160407/figures/chart_class_distribution.png\n",
      "Uploaded s3://sagemaker-us-east-1-590183777926/aai540/maternal-risk/week3/20250920-160407/figures/chart_age_hist.png\n",
      "Uploaded s3://sagemaker-us-east-1-590183777926/aai540/maternal-risk/week3/20250920-160407/figures/chart_bp_box.png\n",
      "Uploaded s3://sagemaker-us-east-1-590183777926/aai540/maternal-risk/week3/20250920-160407/figures/chart_corr_heatmap.png\n"
     ]
    }
   ],
   "source": [
    "# Upload the CSVs, label map, EDA summary, and figures to your default bucket/prefix.\n",
    "\n",
    "s3 = boto3.client(\"s3\")\n",
    "\n",
    "def s3_upload(local: Path, key: str):\n",
    "    s3.upload_file(str(local), bucket, f\"{S3_PREFIX}/{key}\")\n",
    "    print(\"Uploaded\", f\"s3://{bucket}/{S3_PREFIX}/{key}\")\n",
    "\n",
    "# CSVs + summaries\n",
    "for fname in [\"train.csv\",\"val.csv\",\"test.csv\",\"production.csv\",\n",
    "              \"maternal_features_full.csv\",\"label_map.json\",\"eda_summary.json\"]:\n",
    "    s3_upload(ARTIFACTS_DIR / fname, fname)\n",
    "\n",
    "# Plots\n",
    "for fname in [\"chart_class_distribution.png\",\"chart_age_hist.png\",\"chart_bp_box.png\",\"chart_corr_heatmap.png\"]:\n",
    "    s3_upload(ARTIFACTS_DIR / fname, f\"figures/{fname}\")"
   ]
  },
  {
   "cell_type": "markdown",
   "id": "3d0280c5-9725-46f2-8231-3995920e9b44",
   "metadata": {
    "execution": {
     "iopub.execute_input": "2025-09-20T15:14:52.533587Z",
     "iopub.status.busy": "2025-09-20T15:14:52.533071Z",
     "iopub.status.idle": "2025-09-20T15:14:52.537175Z",
     "shell.execute_reply": "2025-09-20T15:14:52.536233Z",
     "shell.execute_reply.started": "2025-09-20T15:14:52.533545Z"
    }
   },
   "source": [
    "#### Sanitize column names (Feature Store regex) & write sanitized splits"
   ]
  },
  {
   "cell_type": "code",
   "execution_count": 24,
   "id": "80d6fae3-05c2-4908-b3a2-30b588255b4b",
   "metadata": {
    "execution": {
     "iopub.execute_input": "2025-09-20T16:06:11.443704Z",
     "iopub.status.busy": "2025-09-20T16:06:11.443414Z",
     "iopub.status.idle": "2025-09-20T16:06:11.474998Z",
     "shell.execute_reply": "2025-09-20T16:06:11.474193Z",
     "shell.execute_reply.started": "2025-09-20T16:06:11.443680Z"
    }
   },
   "outputs": [
    {
     "name": "stdout",
     "output_type": "stream",
     "text": [
      "Sanitized splits saved.\n"
     ]
    }
   ],
   "source": [
    "# FS rules: names must be letters/numbers/hyphens only; must start with alnum; <=64 chars.\n",
    "\n",
    "def sanitize_col(name: str) -> str:\n",
    "    if name == \"SBP_to_DBP\": name = \"SBPtoDBP\"   # preserve meaning\n",
    "    if name.startswith(\"z_\"): name = \"z\" + name[2:]\n",
    "    name = name.replace(\"_\", \"\")\n",
    "    name = \"\".join(ch for ch in name if ch.isalnum() or ch == \"-\")\n",
    "    if not name or not name[0].isalnum(): name = \"f\" + name\n",
    "    return name[:64]\n",
    "\n",
    "def sanitize_df_cols(df: pd.DataFrame) -> pd.DataFrame:\n",
    "    newcols, seen = [], set()\n",
    "    for c in df.columns:\n",
    "        s = sanitize_col(c)\n",
    "        if s in seen:\n",
    "            i, base = 2, s\n",
    "            while f\"{base}{i}\" in seen: i += 1\n",
    "            s = f\"{base}{i}\"\n",
    "        newcols.append(s); seen.add(s)\n",
    "    out = df.copy(); out.columns = newcols\n",
    "    return out\n",
    "\n",
    "label_col = \"label\"\n",
    "def sanitize_split(df):\n",
    "    feats = df.drop(columns=[label_col])\n",
    "    feats = sanitize_df_cols(feats)\n",
    "    feats[label_col] = df[label_col].values\n",
    "    return feats\n",
    "\n",
    "train_s = sanitize_split(train_df); train_s.to_csv(ARTIFACTS_DIR/\"train_sanitized.csv\", index=False)\n",
    "val_s   = sanitize_split(val_df);   val_s.to_csv(ARTIFACTS_DIR/\"val_sanitized.csv\",   index=False)\n",
    "test_s  = sanitize_split(test_df);  test_s.to_csv(ARTIFACTS_DIR/\"test_sanitized.csv\", index=False)\n",
    "prod_s  = sanitize_split(prod_df);  prod_s.to_csv(ARTIFACTS_DIR/\"production_sanitized.csv\", index=False)\n",
    "\n",
    "print(\"Sanitized splits saved.\")"
   ]
  },
  {
   "cell_type": "markdown",
   "id": "c4a97e7b-0caa-44c8-bf22-b0937dc35491",
   "metadata": {},
   "source": [
    "#### Create & ingest Feature Store (OFFLINE, unique names per run)"
   ]
  },
  {
   "cell_type": "code",
   "execution_count": 25,
   "id": "41bbe8b7-6ef8-4721-b6be-35b82e2dc8e5",
   "metadata": {
    "execution": {
     "iopub.execute_input": "2025-09-20T16:06:51.661859Z",
     "iopub.status.busy": "2025-09-20T16:06:51.661582Z",
     "iopub.status.idle": "2025-09-20T16:08:30.473322Z",
     "shell.execute_reply": "2025-09-20T16:08:30.472407Z",
     "shell.execute_reply.started": "2025-09-20T16:06:51.661838Z"
    }
   },
   "outputs": [
    {
     "name": "stdout",
     "output_type": "stream",
     "text": [
      "Status mhr-train-fg-20250920-160407: Creating\n",
      "[READY] mhr-train-fg-20250920-160407\n",
      "[OK] Ingested 322 rows → mhr-train-fg-20250920-160407\n",
      "Status mhr-val-fg-20250920-160407: Creating\n",
      "[READY] mhr-val-fg-20250920-160407\n",
      "[OK] Ingested 81 rows → mhr-val-fg-20250920-160407\n",
      "Status mhr-batch-fg-20250920-160407: Creating\n",
      "[READY] mhr-batch-fg-20250920-160407\n",
      "[OK] Ingested 324 rows → mhr-batch-fg-20250920-160407\n",
      "Feature Store complete: mhr-train-fg-20250920-160407 mhr-val-fg-20250920-160407 mhr-batch-fg-20250920-160407\n"
     ]
    }
   ],
   "source": [
    "import time\n",
    "import boto3\n",
    "from sagemaker.session import Session\n",
    "from sagemaker.feature_store.feature_group import FeatureGroup\n",
    "from sagemaker.feature_store.feature_definition import FeatureDefinition, FeatureTypeEnum\n",
    "\n",
    "sm      = boto3.client(\"sagemaker\")\n",
    "session = Session(boto3.session.Session(region_name=region))\n",
    "\n",
    "def ensure_id_time(df_in: pd.DataFrame) -> pd.DataFrame:\n",
    "    df = df_in.copy()\n",
    "    if \"recordid\" not in df.columns:\n",
    "        df[\"recordid\"] = range(1, len(df)+1)\n",
    "    if \"eventtime\" not in df.columns:\n",
    "        df[\"eventtime\"] = pd.Timestamp.utcnow().isoformat()\n",
    "    return df\n",
    "\n",
    "def to_boto_feature_defs(df: pd.DataFrame):\n",
    "    out = []\n",
    "    for c, d in df.dtypes.items():\n",
    "        if c == \"eventtime\":\n",
    "            t = \"String\"\n",
    "        elif pd.api.types.is_integer_dtype(d):\n",
    "            t = \"Integral\"\n",
    "        elif pd.api.types.is_float_dtype(d):\n",
    "            t = \"Fractional\"\n",
    "        else:\n",
    "            t = \"String\"\n",
    "        out.append({\"FeatureName\": c, \"FeatureType\": t})\n",
    "    return out\n",
    "\n",
    "def create_fg_boto3(name: str, df_local: pd.DataFrame, s3_uri: str):\n",
    "    fdefs = to_boto_feature_defs(df_local)\n",
    "    try:\n",
    "        resp = sm.create_feature_group(\n",
    "            FeatureGroupName=name,\n",
    "            RecordIdentifierFeatureName=\"recordid\",\n",
    "            EventTimeFeatureName=\"eventtime\",\n",
    "            FeatureDefinitions=fdefs,\n",
    "            OfflineStoreConfig={\"S3StorageConfig\": {\"S3Uri\": s3_uri}},\n",
    "            OnlineStoreConfig={\"EnableOnlineStore\": False},\n",
    "            RoleArn=role,\n",
    "            Description=f\"Maternal Health Risk – {name}\",\n",
    "        )\n",
    "        return resp\n",
    "    except sm.exceptions.ResourceInUse:\n",
    "        # Already exists --> safe to reuse after we confirm it's Created\n",
    "        return {\"FeatureGroupArn\": f\"arn:aws:sagemaker:{region}:{boto3.client('sts').get_caller_identity()['Account']}:feature-group/{name}\"}\n",
    "\n",
    "def wait_fg_created(name: str, timeout_s: int = 900, poll_s: int = 10):\n",
    "    start = time.time()\n",
    "    last = \"\"\n",
    "    while True:\n",
    "        desc = sm.describe_feature_group(FeatureGroupName=name)\n",
    "        status = desc.get(\"FeatureGroupStatus\", \"\")\n",
    "        if status == \"Created\":\n",
    "            print(f\"[READY] {name}\")\n",
    "            return desc\n",
    "        if status == \"CreateFailed\":\n",
    "            raise RuntimeError(f\"{name} failed: {desc.get('FailureReason')}\")\n",
    "        if time.time() - start > timeout_s:\n",
    "            raise TimeoutError(f\"Timeout waiting for {name} (last status={status})\")\n",
    "        if status != last:\n",
    "            print(f\"Status {name}: {status}\")\n",
    "            last = status\n",
    "        time.sleep(poll_s)\n",
    "\n",
    "def create_and_ingest(name_base: str, df_local: pd.DataFrame):\n",
    "    # unique FG names per run to avoid collisions\n",
    "    name = f\"{name_base}-{RUN_ID}\"             # e.g., mhr-train-fg-20250920-154301\n",
    "    assert \"_\" not in name, \"FG name must not contain underscores.\"\n",
    "    df_local = ensure_id_time(df_local)\n",
    "    s3_uri   = f\"s3://{bucket}/{S3_PREFIX}/feature-store/{name}\"\n",
    "\n",
    "    create_fg_boto3(name, df_local, s3_uri)\n",
    "    wait_fg_created(name)\n",
    "\n",
    "    fg = FeatureGroup(name=name, sagemaker_session=session)\n",
    "    fg.load_feature_definitions(data_frame=df_local)    # make sure SDK knows schema\n",
    "    fg.ingest(data_frame=df_local, max_workers=4, wait=True)\n",
    "    print(f\"[OK] Ingested {len(df_local)} rows → {name}\")\n",
    "    return name\n",
    "\n",
    "# Load sanitized splits\n",
    "train_s = pd.read_csv(ARTIFACTS_DIR/\"train_sanitized.csv\")\n",
    "val_s   = pd.read_csv(ARTIFACTS_DIR/\"val_sanitized.csv\")\n",
    "prod_s  = pd.read_csv(ARTIFACTS_DIR/\"production_sanitized.csv\")\n",
    "\n",
    "# Create OFFLINE FGs with unique names\n",
    "FG_TRAIN = create_and_ingest(\"mhr-train-fg\", train_s)\n",
    "FG_VAL   = create_and_ingest(\"mhr-val-fg\",   val_s)\n",
    "FG_BATCH = create_and_ingest(\"mhr-batch-fg\", prod_s)\n",
    "\n",
    "print(\"Feature Store complete:\", FG_TRAIN, FG_VAL, FG_BATCH)"
   ]
  },
  {
   "cell_type": "markdown",
   "id": "91005583-4b6c-4ecc-8829-abe82eb153cd",
   "metadata": {},
   "source": [
    "#### Tracker update (JSON + Markdown) and upload"
   ]
  },
  {
   "cell_type": "code",
   "execution_count": 26,
   "id": "5cba8c17-f8e7-43f6-98c9-526e5b7e5fae",
   "metadata": {
    "execution": {
     "iopub.execute_input": "2025-09-20T16:10:41.373893Z",
     "iopub.status.busy": "2025-09-20T16:10:41.373575Z",
     "iopub.status.idle": "2025-09-20T16:10:41.505845Z",
     "shell.execute_reply": "2025-09-20T16:10:41.504975Z",
     "shell.execute_reply.started": "2025-09-20T16:10:41.373868Z"
    }
   },
   "outputs": [
    {
     "name": "stdout",
     "output_type": "stream",
     "text": [
      "Tracker written & uploaded.\n"
     ]
    }
   ],
   "source": [
    "tracker = {\n",
    "    \"run_id\": RUN_ID,\n",
    "    \"s3_prefix\": f\"s3://{bucket}/{S3_PREFIX}\",\n",
    "    \"dataset\": {\n",
    "        \"rows\": eda_summary[\"rows\"], \"cols\": eda_summary[\"cols\"],\n",
    "        \"class_counts\": eda_summary[\"class_counts\"],\n",
    "        \"dtypes\": eda_summary[\"dtypes\"],\n",
    "        \"missing\": eda_summary[\"missing_counts\"],\n",
    "    },\n",
    "    \"splits\": {\n",
    "        \"train_rows\": len(train_df), \"val_rows\": len(val_df),\n",
    "        \"test_rows\": len(test_df), \"prod_rows\": len(prod_df),\n",
    "    },\n",
    "    \"feature_store_groups\": [FG_TRAIN, FG_VAL, FG_BATCH],\n",
    "}\n",
    "with open(ARTIFACTS_DIR / \"team_tracker_update_week3.json\", \"w\") as f:\n",
    "    json.dump(tracker, f, indent=2)\n",
    "\n",
    "md = f\"\"\"# Week 3 Tracker — Maternal Health Risk (RUN: {RUN_ID})\n",
    "\n",
    "**S3 prefix:** s3://{bucket}/{S3_PREFIX}\n",
    "\n",
    "## Dataset\n",
    "- Rows: {eda_summary['rows']} | Cols: {eda_summary['cols']}\n",
    "- Classes: {eda_summary['class_counts']}\n",
    "\n",
    "## Splits\n",
    "- Train: {len(train_df)} (~40%)\n",
    "- Val:   {len(val_df)} (~10%)\n",
    "- Test:  {len(test_df)} (~10%)\n",
    "- Prod:  {len(prod_df)} (~40%)\n",
    "\n",
    "## Feature Store (offline)\n",
    "- {FG_TRAIN}\n",
    "- {FG_VAL}\n",
    "- {FG_BATCH}\n",
    "\"\"\"\n",
    "with open(ARTIFACTS_DIR / \"team_tracker_update_week3.md\", \"w\") as f:\n",
    "    f.write(md)\n",
    "\n",
    "# Upload tracker docs\n",
    "s3 = boto3.client(\"s3\")\n",
    "s3.upload_file(str(ARTIFACTS_DIR/\"team_tracker_update_week3.json\"), bucket, f\"{S3_PREFIX}/team_tracker_update_week3.json\")\n",
    "s3.upload_file(str(ARTIFACTS_DIR/\"team_tracker_update_week3.md\"),   bucket, f\"{S3_PREFIX}/team_tracker_update_week3.md\")\n",
    "\n",
    "print(\"Tracker written & uploaded.\")"
   ]
  },
  {
   "cell_type": "code",
   "execution_count": 28,
   "id": "f2c762b5-98d8-4628-85c1-c35c454f3fd1",
   "metadata": {
    "execution": {
     "iopub.execute_input": "2025-09-20T16:22:24.591195Z",
     "iopub.status.busy": "2025-09-20T16:22:24.590917Z",
     "iopub.status.idle": "2025-09-20T16:22:24.664939Z",
     "shell.execute_reply": "2025-09-20T16:22:24.664181Z",
     "shell.execute_reply.started": "2025-09-20T16:22:24.591174Z"
    }
   },
   "outputs": [
    {
     "data": {
      "text/plain": [
       "{'run_id': '20250920-160407',\n",
       " 's3_prefix': 's3://sagemaker-us-east-1-590183777926/aai540/maternal-risk/week3/20250920-160407',\n",
       " 'dataset': {'rows': 808,\n",
       "  'cols': 7,\n",
       "  'class_counts': {'low risk': 478, 'high risk': 330},\n",
       "  'dtypes': {'Age': 'int64',\n",
       "   'SystolicBP': 'int64',\n",
       "   'DiastolicBP': 'int64',\n",
       "   'BS': 'float64',\n",
       "   'BodyTemp': 'float64',\n",
       "   'HeartRate': 'int64',\n",
       "   'RiskLevel': 'object'},\n",
       "  'missing': {'Age': 0,\n",
       "   'SystolicBP': 0,\n",
       "   'DiastolicBP': 0,\n",
       "   'BS': 0,\n",
       "   'BodyTemp': 0,\n",
       "   'HeartRate': 0,\n",
       "   'RiskLevel': 0}},\n",
       " 'splits': {'train_rows': 322,\n",
       "  'val_rows': 81,\n",
       "  'test_rows': 81,\n",
       "  'prod_rows': 324},\n",
       " 'feature_store_groups': ['mhr-train-fg-20250920-160407',\n",
       "  'mhr-val-fg-20250920-160407',\n",
       "  'mhr-batch-fg-20250920-160407']}"
      ]
     },
     "execution_count": 28,
     "metadata": {},
     "output_type": "execute_result"
    }
   ],
   "source": [
    "# View\n",
    "\n",
    "import boto3, json\n",
    "s3 = boto3.client(\"s3\")\n",
    "obj = s3.get_object(Bucket=bucket, Key=f\"{S3_PREFIX}/team_tracker_update_week3.json\")\n",
    "tracker = json.load(obj[\"Body\"])\n",
    "tracker"
   ]
  },
  {
   "cell_type": "code",
   "execution_count": null,
   "id": "f29f2596-6cde-4273-8dc7-e45f13fe7aaa",
   "metadata": {},
   "outputs": [],
   "source": []
  }
 ],
 "metadata": {
  "kernelspec": {
   "display_name": "Python 3 (ipykernel)",
   "language": "python",
   "name": "python3"
  },
  "language_info": {
   "codemirror_mode": {
    "name": "ipython",
    "version": 3
   },
   "file_extension": ".py",
   "mimetype": "text/x-python",
   "name": "python",
   "nbconvert_exporter": "python",
   "pygments_lexer": "ipython3",
   "version": "3.12.9"
  }
 },
 "nbformat": 4,
 "nbformat_minor": 5
}
